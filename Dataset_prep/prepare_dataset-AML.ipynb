{
 "cells": [
  {
   "cell_type": "markdown",
   "id": "3dc728f8-96ec-4f57-a0a5-2d88f9e1a9c5",
   "metadata": {},
   "source": [
    "# Download dataset"
   ]
  },
  {
   "cell_type": "code",
   "execution_count": 1,
   "id": "0e6ae8b9-306c-468c-ba2a-d6ad346ab67b",
   "metadata": {
    "scrolled": true
   },
   "outputs": [
    {
     "name": "stdout",
     "output_type": "stream",
     "text": [
      "Collecting gdown\n",
      "  Downloading gdown-5.2.0-py3-none-any.whl.metadata (5.8 kB)\n",
      "Requirement already satisfied: beautifulsoup4 in /home/ec2-user/anaconda3/envs/pytorch_p310/lib/python3.10/site-packages (from gdown) (4.12.3)\n",
      "Requirement already satisfied: filelock in /home/ec2-user/anaconda3/envs/pytorch_p310/lib/python3.10/site-packages (from gdown) (3.16.1)\n",
      "Requirement already satisfied: requests[socks] in /home/ec2-user/anaconda3/envs/pytorch_p310/lib/python3.10/site-packages (from gdown) (2.32.3)\n",
      "Requirement already satisfied: tqdm in /home/ec2-user/anaconda3/envs/pytorch_p310/lib/python3.10/site-packages (from gdown) (4.67.0)\n",
      "Requirement already satisfied: soupsieve>1.2 in /home/ec2-user/anaconda3/envs/pytorch_p310/lib/python3.10/site-packages (from beautifulsoup4->gdown) (2.5)\n",
      "Requirement already satisfied: charset-normalizer<4,>=2 in /home/ec2-user/anaconda3/envs/pytorch_p310/lib/python3.10/site-packages (from requests[socks]->gdown) (3.4.0)\n",
      "Requirement already satisfied: idna<4,>=2.5 in /home/ec2-user/anaconda3/envs/pytorch_p310/lib/python3.10/site-packages (from requests[socks]->gdown) (3.10)\n",
      "Requirement already satisfied: urllib3<3,>=1.21.1 in /home/ec2-user/anaconda3/envs/pytorch_p310/lib/python3.10/site-packages (from requests[socks]->gdown) (2.2.3)\n",
      "Requirement already satisfied: certifi>=2017.4.17 in /home/ec2-user/anaconda3/envs/pytorch_p310/lib/python3.10/site-packages (from requests[socks]->gdown) (2024.8.30)\n",
      "Requirement already satisfied: PySocks!=1.5.7,>=1.5.6 in /home/ec2-user/anaconda3/envs/pytorch_p310/lib/python3.10/site-packages (from requests[socks]->gdown) (1.7.1)\n",
      "Downloading gdown-5.2.0-py3-none-any.whl (18 kB)\n",
      "Installing collected packages: gdown\n",
      "Successfully installed gdown-5.2.0\n"
     ]
    }
   ],
   "source": [
    "!pip3 install gdown"
   ]
  },
  {
   "cell_type": "code",
   "execution_count": 1,
   "id": "c338bc43-1273-48ed-867d-90fba40f8924",
   "metadata": {},
   "outputs": [],
   "source": [
    "import shutil\n",
    "\n",
    "shutil.rmtree('AMLDataset')"
   ]
  },
  {
   "cell_type": "code",
   "execution_count": 2,
   "id": "1cb8bdfc-6d0e-4f80-84a4-80ebf290be83",
   "metadata": {},
   "outputs": [
    {
     "name": "stdout",
     "output_type": "stream",
     "text": [
      "Extracting: 100%|██████████████████████| 18358/18358 [02:06<00:00, 145.22file/s]\n",
      "Extraction complete!\n"
     ]
    }
   ],
   "source": [
    "# Unzip the dataset\n",
    "!python unzip.py -i AML.zip -o AMLDataset"
   ]
  },
  {
   "cell_type": "code",
   "execution_count": 8,
   "id": "153c07a5-241c-4c46-bedb-249996f898dc",
   "metadata": {
    "scrolled": true
   },
   "outputs": [
    {
     "name": "stdout",
     "output_type": "stream",
     "text": [
      "CUDA Available: True\n",
      "GPU Name: NVIDIA A10G\n"
     ]
    }
   ],
   "source": [
    "# test GPU\n",
    "!python -c \"import torch; print('CUDA Available:', torch.cuda.is_available()); print('GPU Name:', torch.cuda.get_device_name(0) if torch.cuda.is_available() else 'No GPU')\""
   ]
  },
  {
   "cell_type": "code",
   "execution_count": 3,
   "id": "01484b2f-9d77-4fac-8da1-013083b6031b",
   "metadata": {},
   "outputs": [
    {
     "name": "stdout",
     "output_type": "stream",
     "text": [
      "14728\n"
     ]
    }
   ],
   "source": [
    "# count traindata: NO_CANCER\n",
    "!ls -ltr AMLDataset/AML/train/NO_CANCER/* | wc -l"
   ]
  },
  {
   "cell_type": "code",
   "execution_count": 4,
   "id": "a3f0c645-b9ca-4207-a8eb-b732a06e6886",
   "metadata": {
    "scrolled": true
   },
   "outputs": [
    {
     "name": "stdout",
     "output_type": "stream",
     "text": [
      "3626\n"
     ]
    }
   ],
   "source": [
    "# count traindata: CANCER\n",
    "!ls -ltr AMLDataset/AML/train/CANCER/* | wc -l"
   ]
  },
  {
   "cell_type": "markdown",
   "id": "8d257844-7d96-44e2-a519-16ec49d1f01a",
   "metadata": {},
   "source": [
    "# Split the AML dataset to validation and test"
   ]
  },
  {
   "cell_type": "code",
   "execution_count": 37,
   "id": "a25b0ca3-fc1a-4722-9cef-94b7a60f4eca",
   "metadata": {},
   "outputs": [],
   "source": [
    "import shutil\n",
    "\n",
    "shutil.rmtree('AMLDataset/AML/val') "
   ]
  },
  {
   "cell_type": "code",
   "execution_count": 5,
   "id": "a19bdb3e-f1ac-476f-bb10-22f0a1371433",
   "metadata": {},
   "outputs": [
    {
     "name": "stdout",
     "output_type": "stream",
     "text": [
      "Data splitting complete!\n"
     ]
    }
   ],
   "source": [
    "!python split.py -i AMLDataset/AML/train -v AML_Unseen -r 0.05"
   ]
  },
  {
   "cell_type": "code",
   "execution_count": 6,
   "id": "ba18a0ca-56f1-487b-bf07-a3a667228cd1",
   "metadata": {},
   "outputs": [
    {
     "name": "stdout",
     "output_type": "stream",
     "text": [
      "736\n"
     ]
    }
   ],
   "source": [
    "# count validation data: NO_CANCER\n",
    "!ls -ltr AML_Unseen/NO_CANCER/* | wc -l"
   ]
  },
  {
   "cell_type": "code",
   "execution_count": 7,
   "id": "6f6f703b-8970-48f0-b4d9-832c478ea29a",
   "metadata": {},
   "outputs": [
    {
     "name": "stdout",
     "output_type": "stream",
     "text": [
      "181\n"
     ]
    }
   ],
   "source": [
    "# count validation data: CANCER\n",
    "!ls -ltr AML_Unseen/CANCER/* | wc -l"
   ]
  },
  {
   "cell_type": "code",
   "execution_count": 8,
   "id": "0dbbe54e-3624-416b-88e8-712f30e705a6",
   "metadata": {},
   "outputs": [
    {
     "name": "stdout",
     "output_type": "stream",
     "text": [
      "Data splitting complete!\n"
     ]
    }
   ],
   "source": [
    "!python split.py -i AMLDataset/AML/train -v AMLDataset/AML/val -r 0.30"
   ]
  },
  {
   "cell_type": "code",
   "execution_count": 9,
   "id": "49cd25c1-af7b-4dbf-97a3-99477efbcba0",
   "metadata": {},
   "outputs": [
    {
     "name": "stdout",
     "output_type": "stream",
     "text": [
      "4197\n"
     ]
    }
   ],
   "source": [
    "!ls -ltr AMLDataset/AML/val/NO_CANCER/* | wc -l"
   ]
  },
  {
   "cell_type": "code",
   "execution_count": 10,
   "id": "ae65e23b-11d7-4308-98ca-d332d07459bb",
   "metadata": {},
   "outputs": [
    {
     "name": "stdout",
     "output_type": "stream",
     "text": [
      "1033\n"
     ]
    }
   ],
   "source": [
    "!ls -ltr AMLDataset/AML/val/CANCER/* | wc -l"
   ]
  },
  {
   "cell_type": "code",
   "execution_count": 11,
   "id": "aba357ab-7e55-41a9-9dd4-d5171eabf739",
   "metadata": {},
   "outputs": [
    {
     "name": "stdout",
     "output_type": "stream",
     "text": [
      "9795\n"
     ]
    }
   ],
   "source": [
    "!ls -ltr AMLDataset/AML/train/NO_CANCER/* | wc -l"
   ]
  },
  {
   "cell_type": "code",
   "execution_count": 12,
   "id": "b6d48d44-5621-47e0-93ce-21e478cf958d",
   "metadata": {},
   "outputs": [
    {
     "name": "stdout",
     "output_type": "stream",
     "text": [
      "2412\n"
     ]
    }
   ],
   "source": [
    "!ls -ltr AMLDataset/AML/train/CANCER/* | wc -l"
   ]
  },
  {
   "cell_type": "code",
   "execution_count": 49,
   "id": "b7f2b2e8-d46f-41f6-b332-564143e99021",
   "metadata": {},
   "outputs": [],
   "source": [
    "!mv AMLDataset/AML/test/NO_CANCER/* AMLDataset/AML/test/"
   ]
  },
  {
   "cell_type": "code",
   "execution_count": 50,
   "id": "835dae51-9fed-42a2-9997-95d6c6faa43e",
   "metadata": {},
   "outputs": [],
   "source": [
    "!mv AMLDataset/AML/test/CANCER/* AMLDataset/AML/test/"
   ]
  },
  {
   "cell_type": "markdown",
   "id": "35f53e99-86cc-45dc-9e72-1ce49296b916",
   "metadata": {},
   "source": [
    "# Split the AML dataset to validation\n"
   ]
  },
  {
   "cell_type": "code",
   "execution_count": 10,
   "id": "748b2d17-3bfc-4ddd-ae16-53e60bc8eb10",
   "metadata": {},
   "outputs": [
    {
     "name": "stdout",
     "output_type": "stream",
     "text": [
      "Data splitting complete!\n"
     ]
    }
   ],
   "source": [
    "!python split.py -i TLDataset/AML/PKG-AML-Cytomorphology_LMU/train -v TLDataset/AML/PKG-AML-Cytomorphology_LMU/val -r 0.30"
   ]
  },
  {
   "cell_type": "code",
   "execution_count": 2,
   "id": "8eb91e1c-7884-408c-8b59-a1a796904c25",
   "metadata": {},
   "outputs": [
    {
     "name": "stdout",
     "output_type": "stream",
     "text": [
      "2756\n"
     ]
    }
   ],
   "source": [
    "# count traindata: NO_CANCER\n",
    "!ls -ltr TLDataset/AML/PKG-AML-Cytomorphology_LMU/train/NO_CANCER/* | wc -l"
   ]
  },
  {
   "cell_type": "code",
   "execution_count": 3,
   "id": "21b278f0-e001-43a2-a2c3-5cbe3ae1856d",
   "metadata": {},
   "outputs": [
    {
     "name": "stdout",
     "output_type": "stream",
     "text": [
      "8\n"
     ]
    }
   ],
   "source": [
    "# count traindata: CANCER\n",
    "!ls -ltr TLDataset/AML/PKG-AML-Cytomorphology_LMU/train/CANCER/* | wc -l"
   ]
  },
  {
   "cell_type": "code",
   "execution_count": 4,
   "id": "8526a67b-7a39-41d5-ac1c-d7085cda6c1f",
   "metadata": {},
   "outputs": [
    {
     "name": "stdout",
     "output_type": "stream",
     "text": [
      "1181\n"
     ]
    }
   ],
   "source": [
    "# count validation data: NO_CANCER\n",
    "!ls -ltr TLDataset/AML/PKG-AML-Cytomorphology_LMU/val/NO_CANCER/* | wc -l"
   ]
  },
  {
   "cell_type": "code",
   "execution_count": 5,
   "id": "2b7393e6-2265-4b7e-9f0d-8b9b70d60e43",
   "metadata": {},
   "outputs": [
    {
     "name": "stdout",
     "output_type": "stream",
     "text": [
      "3\n"
     ]
    }
   ],
   "source": [
    "# count validation data: CANCER\n",
    "!ls -ltr TLDataset/AML/PKG-AML-Cytomorphology_LMU/val/CANCER/* | wc -l"
   ]
  },
  {
   "cell_type": "code",
   "execution_count": 9,
   "id": "25799eb0-7c8e-42c5-861e-c7d24279bcaa",
   "metadata": {},
   "outputs": [
    {
     "name": "stdout",
     "output_type": "stream",
     "text": [
      "mv: cannot stat 'TLDataset/AML/PKG-AML-Cytomorphology_LMU/val/NO_CANCER/*': No such file or directory\n"
     ]
    }
   ],
   "source": [
    "!mv TLDataset/AML/PKG-AML-Cytomorphology_LMU/val/NO_CANCER/* TLDataset/AML/PKG-AML-Cytomorphology_LMU/Validate/"
   ]
  },
  {
   "cell_type": "code",
   "execution_count": 7,
   "id": "0a93dfcb-a9aa-4f1f-9cc0-1d0c1703e6ff",
   "metadata": {},
   "outputs": [
    {
     "name": "stdout",
     "output_type": "stream",
     "text": [
      "1184\n"
     ]
    }
   ],
   "source": [
    "!ls -ltr TLDataset/AML/PKG-AML-Cytomorphology_LMU/Validate/* | wc -l"
   ]
  },
  {
   "cell_type": "code",
   "execution_count": null,
   "id": "ac28cd83-8c61-4615-93c5-ca4804bb0665",
   "metadata": {},
   "outputs": [],
   "source": []
  }
 ],
 "metadata": {
  "kernelspec": {
   "display_name": "Python 3 (ipykernel)",
   "language": "python",
   "name": "python3"
  },
  "language_info": {
   "codemirror_mode": {
    "name": "ipython",
    "version": 3
   },
   "file_extension": ".py",
   "mimetype": "text/x-python",
   "name": "python",
   "nbconvert_exporter": "python",
   "pygments_lexer": "ipython3",
   "version": "3.7.9"
  }
 },
 "nbformat": 4,
 "nbformat_minor": 5
}
