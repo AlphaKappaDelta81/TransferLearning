{
 "cells": [
  {
   "cell_type": "markdown",
   "id": "3dc728f8-96ec-4f57-a0a5-2d88f9e1a9c5",
   "metadata": {},
   "source": [
    "# Download dataset"
   ]
  },
  {
   "cell_type": "code",
   "execution_count": 1,
   "id": "0e6ae8b9-306c-468c-ba2a-d6ad346ab67b",
   "metadata": {
    "scrolled": true
   },
   "outputs": [
    {
     "name": "stdout",
     "output_type": "stream",
     "text": [
      "Collecting gdown\n",
      "  Downloading gdown-5.2.0-py3-none-any.whl.metadata (5.8 kB)\n",
      "Requirement already satisfied: beautifulsoup4 in /home/ec2-user/anaconda3/envs/pytorch_p310/lib/python3.10/site-packages (from gdown) (4.12.3)\n",
      "Requirement already satisfied: filelock in /home/ec2-user/anaconda3/envs/pytorch_p310/lib/python3.10/site-packages (from gdown) (3.16.1)\n",
      "Requirement already satisfied: requests[socks] in /home/ec2-user/anaconda3/envs/pytorch_p310/lib/python3.10/site-packages (from gdown) (2.32.3)\n",
      "Requirement already satisfied: tqdm in /home/ec2-user/anaconda3/envs/pytorch_p310/lib/python3.10/site-packages (from gdown) (4.67.0)\n",
      "Requirement already satisfied: soupsieve>1.2 in /home/ec2-user/anaconda3/envs/pytorch_p310/lib/python3.10/site-packages (from beautifulsoup4->gdown) (2.5)\n",
      "Requirement already satisfied: charset-normalizer<4,>=2 in /home/ec2-user/anaconda3/envs/pytorch_p310/lib/python3.10/site-packages (from requests[socks]->gdown) (3.4.0)\n",
      "Requirement already satisfied: idna<4,>=2.5 in /home/ec2-user/anaconda3/envs/pytorch_p310/lib/python3.10/site-packages (from requests[socks]->gdown) (3.10)\n",
      "Requirement already satisfied: urllib3<3,>=1.21.1 in /home/ec2-user/anaconda3/envs/pytorch_p310/lib/python3.10/site-packages (from requests[socks]->gdown) (2.2.3)\n",
      "Requirement already satisfied: certifi>=2017.4.17 in /home/ec2-user/anaconda3/envs/pytorch_p310/lib/python3.10/site-packages (from requests[socks]->gdown) (2024.8.30)\n",
      "Requirement already satisfied: PySocks!=1.5.7,>=1.5.6 in /home/ec2-user/anaconda3/envs/pytorch_p310/lib/python3.10/site-packages (from requests[socks]->gdown) (1.7.1)\n",
      "Downloading gdown-5.2.0-py3-none-any.whl (18 kB)\n",
      "Installing collected packages: gdown\n",
      "Successfully installed gdown-5.2.0\n"
     ]
    }
   ],
   "source": [
    "!pip3 install gdown"
   ]
  },
  {
   "cell_type": "code",
   "execution_count": 38,
   "id": "08f5462e-abfd-44d6-95cc-6011cfa50002",
   "metadata": {},
   "outputs": [],
   "source": [
    "import shutil\n",
    "\n",
    "shutil.rmtree('TLDataset') "
   ]
  },
  {
   "cell_type": "code",
   "execution_count": 42,
   "id": "bacf0390-bbdd-4857-a59f-c7e697561408",
   "metadata": {},
   "outputs": [],
   "source": [
    "import shutil\n",
    "\n",
    "shutil.rmtree('ALL_Unseen') "
   ]
  },
  {
   "cell_type": "code",
   "execution_count": 39,
   "id": "1cb8bdfc-6d0e-4f80-84a4-80ebf290be83",
   "metadata": {},
   "outputs": [
    {
     "name": "stdout",
     "output_type": "stream",
     "text": [
      "Extracting: 100%|██████████████████████| 19090/19090 [00:54<00:00, 352.56file/s]\n",
      "Extraction complete!\n"
     ]
    }
   ],
   "source": [
    "# Unzip the dataset\n",
    "!python unzip.py -i TLDataset.zip -o /home/sagemaker-user/"
   ]
  },
  {
   "cell_type": "code",
   "execution_count": 8,
   "id": "153c07a5-241c-4c46-bedb-249996f898dc",
   "metadata": {
    "scrolled": true
   },
   "outputs": [
    {
     "name": "stdout",
     "output_type": "stream",
     "text": [
      "CUDA Available: True\n",
      "GPU Name: NVIDIA A10G\n"
     ]
    }
   ],
   "source": [
    "# test GPU\n",
    "!python -c \"import torch; print('CUDA Available:', torch.cuda.is_available()); print('GPU Name:', torch.cuda.get_device_name(0) if torch.cuda.is_available() else 'No GPU')\""
   ]
  },
  {
   "cell_type": "code",
   "execution_count": 40,
   "id": "01484b2f-9d77-4fac-8da1-013083b6031b",
   "metadata": {},
   "outputs": [
    {
     "name": "stdout",
     "output_type": "stream",
     "text": [
      "2983\n"
     ]
    }
   ],
   "source": [
    "# count traindata: NO_CANCER\n",
    "!ls -ltr TLDataset/ALL/PKG-C-NMC2019/train/NO_CANCER/* | wc -l"
   ]
  },
  {
   "cell_type": "code",
   "execution_count": 41,
   "id": "a3f0c645-b9ca-4207-a8eb-b732a06e6886",
   "metadata": {
    "scrolled": true
   },
   "outputs": [
    {
     "name": "stdout",
     "output_type": "stream",
     "text": [
      "6400\n"
     ]
    }
   ],
   "source": [
    "# count traindata: CANCER\n",
    "!ls -ltr TLDataset/ALL/PKG-C-NMC2019/train/CANCER/* | wc -l"
   ]
  },
  {
   "cell_type": "markdown",
   "id": "63f661f6-791c-4907-bcfa-bac4311d0dbe",
   "metadata": {},
   "source": [
    "# Split ALL Dataset to -Test Data"
   ]
  },
  {
   "cell_type": "code",
   "execution_count": 43,
   "id": "85adca2f-8c47-4bb6-ab00-b9fc3b72768b",
   "metadata": {},
   "outputs": [
    {
     "name": "stdout",
     "output_type": "stream",
     "text": [
      "Data splitting complete!\n"
     ]
    }
   ],
   "source": [
    "!python split.py -i TLDataset/ALL/PKG-C-NMC2019/train -v ALL_Unseen/ -r 0.05"
   ]
  },
  {
   "cell_type": "code",
   "execution_count": 44,
   "id": "f5371ce0-1b32-4705-a863-6d6f02f4efc4",
   "metadata": {
    "jupyter": {
     "source_hidden": true
    }
   },
   "outputs": [
    {
     "name": "stdout",
     "output_type": "stream",
     "text": [
      "149\n"
     ]
    }
   ],
   "source": [
    "!ls -ltr ALL_Unseen/NO_CANCER/* | wc -l"
   ]
  },
  {
   "cell_type": "code",
   "execution_count": 45,
   "id": "e7ac5e97-8a89-4dad-8b3b-c5c6c85f4971",
   "metadata": {},
   "outputs": [
    {
     "name": "stdout",
     "output_type": "stream",
     "text": [
      "320\n"
     ]
    }
   ],
   "source": [
    "!ls -ltr ALL_Unseen/CANCER/* | wc -l"
   ]
  },
  {
   "cell_type": "markdown",
   "id": "8d257844-7d96-44e2-a519-16ec49d1f01a",
   "metadata": {},
   "source": [
    "Split the AML dataset to validation"
   ]
  },
  {
   "cell_type": "code",
   "execution_count": 46,
   "id": "a19bdb3e-f1ac-476f-bb10-22f0a1371433",
   "metadata": {},
   "outputs": [
    {
     "name": "stdout",
     "output_type": "stream",
     "text": [
      "Data splitting complete!\n"
     ]
    }
   ],
   "source": [
    "!python split.py -i TLDataset/ALL/PKG-C-NMC2019/train -v TLDataset/ALL/PKG-C-NMC2019/val -r 0.12"
   ]
  },
  {
   "cell_type": "code",
   "execution_count": 47,
   "id": "ba18a0ca-56f1-487b-bf07-a3a667228cd1",
   "metadata": {},
   "outputs": [
    {
     "name": "stdout",
     "output_type": "stream",
     "text": [
      "746\n"
     ]
    }
   ],
   "source": [
    "# count validation data: NO_CANCER\n",
    "!ls -ltr TLDataset/ALL/PKG-C-NMC2019/val/NO_CANCER/* | wc -l"
   ]
  },
  {
   "cell_type": "code",
   "execution_count": 48,
   "id": "6f6f703b-8970-48f0-b4d9-832c478ea29a",
   "metadata": {},
   "outputs": [
    {
     "name": "stdout",
     "output_type": "stream",
     "text": [
      "1601\n"
     ]
    }
   ],
   "source": [
    "# count validation data: CANCER\n",
    "!ls -ltr TLDataset/ALL/PKG-C-NMC2019/val/CANCER/* | wc -l"
   ]
  },
  {
   "cell_type": "code",
   "execution_count": 49,
   "id": "7befc169-7584-46f6-b3c0-d0327c313264",
   "metadata": {},
   "outputs": [
    {
     "name": "stdout",
     "output_type": "stream",
     "text": [
      "2494\n"
     ]
    }
   ],
   "source": [
    "!ls -ltr TLDataset/ALL/PKG-C-NMC2019/train/NO_CANCER/* | wc -l"
   ]
  },
  {
   "cell_type": "code",
   "execution_count": 50,
   "id": "b82a118c-9c5f-42a8-b5c3-bcbb954f18f1",
   "metadata": {},
   "outputs": [
    {
     "name": "stdout",
     "output_type": "stream",
     "text": [
      "5351\n"
     ]
    }
   ],
   "source": [
    "!ls -ltr TLDataset/ALL/PKG-C-NMC2019/train/CANCER/* | wc -l"
   ]
  },
  {
   "cell_type": "markdown",
   "id": "bc87a69a-2a4b-4a50-ad36-8272efdbaf93",
   "metadata": {},
   "source": [
    "# Split the AML dataset to validation\n",
    "here make sure you have enough validation data. For example 12% can be only 1 image and whcih is not enough"
   ]
  },
  {
   "cell_type": "code",
   "execution_count": 10,
   "id": "748b2d17-3bfc-4ddd-ae16-53e60bc8eb10",
   "metadata": {},
   "outputs": [
    {
     "name": "stdout",
     "output_type": "stream",
     "text": [
      "Data splitting complete!\n"
     ]
    }
   ],
   "source": [
    "!python split.py -i TLDataset/AML/PKG-AML-Cytomorphology_LMU/train -v TLDataset/AML/PKG-AML-Cytomorphology_LMU/val -r 0.30"
   ]
  },
  {
   "cell_type": "code",
   "execution_count": 2,
   "id": "8eb91e1c-7884-408c-8b59-a1a796904c25",
   "metadata": {},
   "outputs": [
    {
     "name": "stdout",
     "output_type": "stream",
     "text": [
      "2756\n"
     ]
    }
   ],
   "source": [
    "# count traindata: NO_CANCER\n",
    "!ls -ltr TLDataset/AML/PKG-AML-Cytomorphology_LMU/train/NO_CANCER/* | wc -l"
   ]
  },
  {
   "cell_type": "code",
   "execution_count": 3,
   "id": "21b278f0-e001-43a2-a2c3-5cbe3ae1856d",
   "metadata": {},
   "outputs": [
    {
     "name": "stdout",
     "output_type": "stream",
     "text": [
      "8\n"
     ]
    }
   ],
   "source": [
    "# count traindata: CANCER\n",
    "!ls -ltr TLDataset/AML/PKG-AML-Cytomorphology_LMU/train/CANCER/* | wc -l"
   ]
  },
  {
   "cell_type": "code",
   "execution_count": 4,
   "id": "8526a67b-7a39-41d5-ac1c-d7085cda6c1f",
   "metadata": {},
   "outputs": [
    {
     "name": "stdout",
     "output_type": "stream",
     "text": [
      "1181\n"
     ]
    }
   ],
   "source": [
    "# count validation data: NO_CANCER\n",
    "!ls -ltr TLDataset/AML/PKG-AML-Cytomorphology_LMU/val/NO_CANCER/* | wc -l"
   ]
  },
  {
   "cell_type": "code",
   "execution_count": 5,
   "id": "2b7393e6-2265-4b7e-9f0d-8b9b70d60e43",
   "metadata": {},
   "outputs": [
    {
     "name": "stdout",
     "output_type": "stream",
     "text": [
      "3\n"
     ]
    }
   ],
   "source": [
    "# count validation data: CANCER\n",
    "!ls -ltr TLDataset/AML/PKG-AML-Cytomorphology_LMU/val/CANCER/* | wc -l"
   ]
  },
  {
   "cell_type": "code",
   "execution_count": 9,
   "id": "25799eb0-7c8e-42c5-861e-c7d24279bcaa",
   "metadata": {},
   "outputs": [
    {
     "name": "stdout",
     "output_type": "stream",
     "text": [
      "mv: cannot stat 'TLDataset/AML/PKG-AML-Cytomorphology_LMU/val/NO_CANCER/*': No such file or directory\n"
     ]
    }
   ],
   "source": [
    "!mv TLDataset/AML/PKG-AML-Cytomorphology_LMU/val/NO_CANCER/* TLDataset/AML/PKG-AML-Cytomorphology_LMU/Validate/"
   ]
  },
  {
   "cell_type": "code",
   "execution_count": 7,
   "id": "0a93dfcb-a9aa-4f1f-9cc0-1d0c1703e6ff",
   "metadata": {},
   "outputs": [
    {
     "name": "stdout",
     "output_type": "stream",
     "text": [
      "1184\n"
     ]
    }
   ],
   "source": [
    "!ls -ltr TLDataset/AML/PKG-AML-Cytomorphology_LMU/Validate/* | wc -l"
   ]
  }
 ],
 "metadata": {
  "kernelspec": {
   "display_name": "Python 3 (ipykernel)",
   "language": "python",
   "name": "python3"
  },
  "language_info": {
   "codemirror_mode": {
    "name": "ipython",
    "version": 3
   },
   "file_extension": ".py",
   "mimetype": "text/x-python",
   "name": "python",
   "nbconvert_exporter": "python",
   "pygments_lexer": "ipython3",
   "version": "3.7.9"
  }
 },
 "nbformat": 4,
 "nbformat_minor": 5
}
