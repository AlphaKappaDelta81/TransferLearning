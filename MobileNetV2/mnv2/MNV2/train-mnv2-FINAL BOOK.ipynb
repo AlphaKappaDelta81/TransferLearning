{
 "cells": [
  {
   "cell_type": "code",
   "execution_count": null,
   "id": "ee7ae82d-bf6c-461e-ac31-a77387679b70",
   "metadata": {},
   "outputs": [],
   "source": [
    "pip install --upgrade torch torchvision"
   ]
  },
  {
   "cell_type": "code",
   "execution_count": null,
   "id": "f878dd7f-a8d4-480c-9f5a-62a47955502c",
   "metadata": {},
   "outputs": [],
   "source": [
    "# https://drive.google.com/file/d/1S7upK1OsxQoLfOLDTR-Px3XJFGuZKn3B/view?usp=sharing\n",
    "!gdown https://drive.google.com/uc?id=1S7upK1OsxQoLfOLDTR-Px3XJFGuZKn3B"
   ]
  },
  {
   "cell_type": "code",
   "execution_count": null,
   "id": "971f23b5-4233-46ae-bcf9-514ac8c3c44f",
   "metadata": {},
   "outputs": [],
   "source": [
    "!rm -r TLDataset/ALL/PKG-C-NMC2019/train/.ipynb_checkpoints\n",
    "!rm -r TLDataset/ALL/PKG-C-NMC2019/train/.DS_STORE"
   ]
  },
  {
   "cell_type": "code",
   "execution_count": null,
   "id": "ba421ba6-36bf-4670-b383-36db6d2689a1",
   "metadata": {},
   "outputs": [],
   "source": [
    "from torchvision.models import ConvNeXt_Base_Weights"
   ]
  },
  {
   "cell_type": "code",
   "execution_count": 2,
   "id": "f0bb23ab-30a3-48b8-bb78-db3a6c0b9188",
   "metadata": {},
   "outputs": [
    {
     "name": "stdout",
     "output_type": "stream",
     "text": [
      "Collecting seaborn\n",
      "  Using cached seaborn-0.13.2-py3-none-any.whl.metadata (5.4 kB)\n",
      "Requirement already satisfied: numpy!=1.24.0,>=1.20 in /opt/conda/lib/python3.11/site-packages (from seaborn) (1.26.4)\n",
      "Requirement already satisfied: pandas>=1.2 in /opt/conda/lib/python3.11/site-packages (from seaborn) (2.2.3)\n",
      "Requirement already satisfied: matplotlib!=3.6.1,>=3.4 in /opt/conda/lib/python3.11/site-packages (from seaborn) (3.9.3)\n",
      "Requirement already satisfied: contourpy>=1.0.1 in /opt/conda/lib/python3.11/site-packages (from matplotlib!=3.6.1,>=3.4->seaborn) (1.3.1)\n",
      "Requirement already satisfied: cycler>=0.10 in /opt/conda/lib/python3.11/site-packages (from matplotlib!=3.6.1,>=3.4->seaborn) (0.12.1)\n",
      "Requirement already satisfied: fonttools>=4.22.0 in /opt/conda/lib/python3.11/site-packages (from matplotlib!=3.6.1,>=3.4->seaborn) (4.55.3)\n",
      "Requirement already satisfied: kiwisolver>=1.3.1 in /opt/conda/lib/python3.11/site-packages (from matplotlib!=3.6.1,>=3.4->seaborn) (1.4.7)\n",
      "Requirement already satisfied: packaging>=20.0 in /opt/conda/lib/python3.11/site-packages (from matplotlib!=3.6.1,>=3.4->seaborn) (24.2)\n",
      "Requirement already satisfied: pillow>=8 in /opt/conda/lib/python3.11/site-packages (from matplotlib!=3.6.1,>=3.4->seaborn) (10.4.0)\n",
      "Requirement already satisfied: pyparsing>=2.3.1 in /opt/conda/lib/python3.11/site-packages (from matplotlib!=3.6.1,>=3.4->seaborn) (3.2.0)\n",
      "Requirement already satisfied: python-dateutil>=2.7 in /opt/conda/lib/python3.11/site-packages (from matplotlib!=3.6.1,>=3.4->seaborn) (2.9.0.post0)\n",
      "Requirement already satisfied: pytz>=2020.1 in /opt/conda/lib/python3.11/site-packages (from pandas>=1.2->seaborn) (2023.3)\n",
      "Requirement already satisfied: tzdata>=2022.7 in /opt/conda/lib/python3.11/site-packages (from pandas>=1.2->seaborn) (2024.2)\n",
      "Requirement already satisfied: six>=1.5 in /opt/conda/lib/python3.11/site-packages (from python-dateutil>=2.7->matplotlib!=3.6.1,>=3.4->seaborn) (1.17.0)\n",
      "Using cached seaborn-0.13.2-py3-none-any.whl (294 kB)\n",
      "Installing collected packages: seaborn\n",
      "Successfully installed seaborn-0.13.2\n"
     ]
    }
   ],
   "source": [
    "!pip install seaborn"
   ]
  },
  {
   "cell_type": "code",
   "execution_count": null,
   "id": "a2a78e27-8429-4008-91d4-8f3fa90f9fee",
   "metadata": {},
   "outputs": [],
   "source": [
    "pip install --upgrade efficientnet-pytorch"
   ]
  },
  {
   "cell_type": "code",
   "execution_count": null,
   "id": "ba6cf85b-d1b8-4c43-b4db-5771ea331fcb",
   "metadata": {},
   "outputs": [],
   "source": [
    "!pip install torch-summary"
   ]
  },
  {
   "cell_type": "code",
   "execution_count": null,
   "id": "108240b1-5af9-46ae-af10-0d3a4035ea7d",
   "metadata": {},
   "outputs": [],
   "source": [
    "!pip install summary"
   ]
  },
  {
   "cell_type": "markdown",
   "id": "c7f3f109-f561-43de-846b-e927f1b9fe17",
   "metadata": {},
   "source": [
    "# Training"
   ]
  },
  {
   "cell_type": "code",
   "execution_count": 6,
   "id": "e15992db",
   "metadata": {
    "vscode": {
     "languageId": "plaintext"
    }
   },
   "outputs": [
    {
     "name": "stdout",
     "output_type": "stream",
     "text": [
      "Using device: cuda:0\n",
      "Training Data: 7845 samples\n",
      "Validation Data: 2347 samples\n",
      "===============================================================================================\n",
      "Layer (type:depth-idx)                        Output Shape              Param #\n",
      "===============================================================================================\n",
      "├─Conv2d: 1-1                                 [-1, 32, 112, 112]        864\n",
      "├─BatchNormAct2d: 1-2                         [-1, 32, 112, 112]        --\n",
      "|    └─Identity: 2-1                          [-1, 32, 112, 112]        --\n",
      "|    └─ReLU6: 2-2                             [-1, 32, 112, 112]        --\n",
      "├─Sequential: 1-3                             [-1, 320, 7, 7]           --\n",
      "|    └─Sequential: 2-3                        [-1, 16, 112, 112]        --\n",
      "|    |    └─DepthwiseSeparableConv: 3-1       [-1, 16, 112, 112]        896\n",
      "|    └─Sequential: 2-4                        [-1, 24, 56, 56]          --\n",
      "|    |    └─InvertedResidual: 3-2             [-1, 24, 56, 56]          5,136\n",
      "|    |    └─InvertedResidual: 3-3             [-1, 24, 56, 56]          8,832\n",
      "|    └─Sequential: 2-5                        [-1, 32, 28, 28]          --\n",
      "|    |    └─InvertedResidual: 3-4             [-1, 32, 28, 28]          10,000\n",
      "|    |    └─InvertedResidual: 3-5             [-1, 32, 28, 28]          14,848\n",
      "|    |    └─InvertedResidual: 3-6             [-1, 32, 28, 28]          14,848\n",
      "|    └─Sequential: 2-6                        [-1, 64, 14, 14]          --\n",
      "|    |    └─InvertedResidual: 3-7             [-1, 64, 14, 14]          21,056\n",
      "|    |    └─InvertedResidual: 3-8             [-1, 64, 14, 14]          54,272\n",
      "|    |    └─InvertedResidual: 3-9             [-1, 64, 14, 14]          54,272\n",
      "|    |    └─InvertedResidual: 3-10            [-1, 64, 14, 14]          54,272\n",
      "|    └─Sequential: 2-7                        [-1, 96, 14, 14]          --\n",
      "|    |    └─InvertedResidual: 3-11            [-1, 96, 14, 14]          66,624\n",
      "|    |    └─InvertedResidual: 3-12            [-1, 96, 14, 14]          118,272\n",
      "|    |    └─InvertedResidual: 3-13            [-1, 96, 14, 14]          118,272\n",
      "|    └─Sequential: 2-8                        [-1, 160, 7, 7]           --\n",
      "|    |    └─InvertedResidual: 3-14            [-1, 160, 7, 7]           155,264\n",
      "|    |    └─InvertedResidual: 3-15            [-1, 160, 7, 7]           320,000\n",
      "|    |    └─InvertedResidual: 3-16            [-1, 160, 7, 7]           320,000\n",
      "|    └─Sequential: 2-9                        [-1, 320, 7, 7]           --\n",
      "|    |    └─InvertedResidual: 3-17            [-1, 320, 7, 7]           473,920\n",
      "├─Conv2d: 1-4                                 [-1, 1280, 7, 7]          409,600\n",
      "├─BatchNormAct2d: 1-5                         [-1, 1280, 7, 7]          --\n",
      "|    └─Identity: 2-10                         [-1, 1280, 7, 7]          --\n",
      "|    └─ReLU6: 2-11                            [-1, 1280, 7, 7]          --\n",
      "├─SelectAdaptivePool2d: 1-6                   [-1, 1280]                --\n",
      "|    └─AdaptiveAvgPool2d: 2-12                [-1, 1280, 1, 1]          --\n",
      "|    └─Flatten: 2-13                          [-1, 1280]                --\n",
      "├─Linear: 1-7                                 [-1, 2]                   2,562\n",
      "===============================================================================================\n",
      "Total params: 2,223,810\n",
      "Trainable params: 2,223,810\n",
      "Non-trainable params: 0\n",
      "Total mult-adds (M): 304.90\n",
      "===============================================================================================\n",
      "Input size (MB): 0.57\n",
      "Forward/backward pass size (MB): 50.95\n",
      "Params size (MB): 8.48\n",
      "Estimated Total Size (MB): 60.01\n",
      "===============================================================================================\n",
      "Epoch [1/50], Train Loss: 0.6658, LR: 0.001000                                  \n",
      "Validation Loss: 0.0125, F1: 0.8064                                             \n",
      "\u001b[31mBest F1: 0.8063531353135314 in epoch 1\u001b[0m\n",
      "Epoch [2/50], Train Loss: 0.3606, LR: 0.001000                                  \n",
      "Validation Loss: 0.0105, F1: 0.8540                                             \n",
      "\u001b[31mBest F1: 0.8539762443438914 in epoch 2\u001b[0m\n",
      "Epoch [3/50], Train Loss: 0.3179, LR: 0.001000                                  \n",
      "Validation Loss: 0.0084, F1: 0.8777                                             \n",
      "\u001b[31mBest F1: 0.8776931217496806 in epoch 3\u001b[0m\n",
      "Epoch [4/50], Train Loss: 0.2972, LR: 0.001000                                  \n",
      "Validation Loss: 0.0159, F1: 0.7843                                             \n",
      "Epoch [5/50], Train Loss: 0.2708, LR: 0.000100                                  \n",
      "Validation Loss: 0.0076, F1: 0.9030                                             \n",
      "\u001b[31mBest F1: 0.9029751131340411 in epoch 5\u001b[0m\n",
      "Epoch [6/50], Train Loss: 0.2306, LR: 0.000100                                  \n",
      "Validation Loss: 0.0069, F1: 0.9029                                             \n",
      "Epoch [7/50], Train Loss: 0.2170, LR: 0.000100                                  \n",
      "Validation Loss: 0.0073, F1: 0.8948                                             \n",
      "Epoch [8/50], Train Loss: 0.2158, LR: 0.000100                                  \n",
      "Validation Loss: 0.0062, F1: 0.9191                                             \n",
      "\u001b[31mBest F1: 0.9191069842015502 in epoch 8\u001b[0m\n",
      "Epoch [9/50], Train Loss: 0.2044, LR: 0.000100                                  \n",
      "Validation Loss: 0.0069, F1: 0.9042                                             \n",
      "Epoch [10/50], Train Loss: 0.1984, LR: 0.000010                                 \n",
      "Validation Loss: 0.0059, F1: 0.9228                                             \n",
      "\u001b[31mBest F1: 0.9228047588617825 in epoch 10\u001b[0m\n",
      "Epoch [11/50], Train Loss: 0.1954, LR: 0.000010                                 \n",
      "Validation Loss: 0.0060, F1: 0.9243                                             \n",
      "\u001b[31mBest F1: 0.9242753404974748 in epoch 11\u001b[0m\n",
      "Epoch [12/50], Train Loss: 0.1884, LR: 0.000010                                 \n",
      "Validation Loss: 0.0064, F1: 0.9171                                             \n",
      "Epoch [13/50], Train Loss: 0.1912, LR: 0.000010                                 \n",
      "Validation Loss: 0.0060, F1: 0.9224                                             \n",
      "Epoch [14/50], Train Loss: 0.1895, LR: 0.000010                                 \n",
      "Validation Loss: 0.0063, F1: 0.9199                                             \n",
      "Epoch [15/50], Train Loss: 0.1787, LR: 0.000001                                 \n",
      "Validation Loss: 0.0059, F1: 0.9231                                             \n",
      "Epoch [16/50], Train Loss: 0.1821, LR: 0.000001                                 \n",
      "Validation Loss: 0.0058, F1: 0.9239                                             \n",
      "Epoch [17/50], Train Loss: 0.1846, LR: 0.000001                                 \n",
      "Validation Loss: 0.0061, F1: 0.9210                                             \n",
      "Epoch [18/50], Train Loss: 0.1827, LR: 0.000001                                 \n",
      "Validation Loss: 0.0059, F1: 0.9222                                             \n",
      "Epoch [19/50], Train Loss: 0.1814, LR: 0.000001                                 \n",
      "Validation Loss: 0.0060, F1: 0.9243                                             \n",
      "Epoch [20/50], Train Loss: 0.1883, LR: 0.000000                                 \n",
      "Validation Loss: 0.0062, F1: 0.9188                                             \n",
      "Epoch [21/50], Train Loss: 0.1784, LR: 0.000000                                 \n",
      "Validation Loss: 0.0059, F1: 0.9262                                             \n",
      "\u001b[31mBest F1: 0.926176651051523 in epoch 21\u001b[0m\n",
      "Epoch [22/50], Train Loss: 0.1872, LR: 0.000000                                 \n",
      "Validation Loss: 0.0060, F1: 0.9222                                             \n",
      "Epoch [23/50], Train Loss: 0.1810, LR: 0.000000                                 \n",
      "Validation Loss: 0.0062, F1: 0.9205                                             \n",
      "Epoch [24/50], Train Loss: 0.1836, LR: 0.000000                                 \n",
      "Validation Loss: 0.0067, F1: 0.9099                                             \n",
      "Epoch [25/50], Train Loss: 0.1837, LR: 0.000000                                 \n",
      "Validation Loss: 0.0061, F1: 0.9197                                             \n",
      "Epoch [26/50], Train Loss: 0.1800, LR: 0.000000                                 \n",
      "Validation Loss: 0.0062, F1: 0.9190                                             \n",
      "Epoch [27/50], Train Loss: 0.1821, LR: 0.000000                                 \n",
      "Validation Loss: 0.0061, F1: 0.9179                                             \n",
      "Epoch [28/50], Train Loss: 0.1788, LR: 0.000000                                 \n",
      "Validation Loss: 0.0061, F1: 0.9200                                             \n",
      "Epoch [29/50], Train Loss: 0.1798, LR: 0.000000                                 \n",
      "Validation Loss: 0.0061, F1: 0.9178                                             \n",
      "Epoch [30/50], Train Loss: 0.1848, LR: 0.000000                                 \n",
      "Validation Loss: 0.0063, F1: 0.9187                                             \n",
      "Epoch [31/50], Train Loss: 0.1859, LR: 0.000000                                 \n",
      "Validation Loss: 0.0060, F1: 0.9215                                             \n",
      "Epoch [32/50], Train Loss: 0.1773, LR: 0.000000                                 \n",
      "Validation Loss: 0.0065, F1: 0.9138                                             \n",
      "Epoch [33/50], Train Loss: 0.1735, LR: 0.000000                                 \n",
      "Validation Loss: 0.0060, F1: 0.9227                                             \n",
      "Epoch [34/50], Train Loss: 0.1857, LR: 0.000000                                 \n",
      "Validation Loss: 0.0059, F1: 0.9250                                             \n",
      "Epoch [35/50], Train Loss: 0.1760, LR: 0.000000                                 \n",
      "Validation Loss: 0.0060, F1: 0.9214                                             \n",
      "Epoch [36/50], Train Loss: 0.1866, LR: 0.000000                                 \n",
      "Validation Loss: 0.0060, F1: 0.9235                                             \n",
      "Epoch [37/50], Train Loss: 0.1798, LR: 0.000000                                 \n",
      "Validation Loss: 0.0061, F1: 0.9215                                             \n",
      "Epoch [38/50], Train Loss: 0.1772, LR: 0.000000                                 \n",
      "Validation Loss: 0.0062, F1: 0.9197                                             \n",
      "Epoch [39/50], Train Loss: 0.1818, LR: 0.000000                                 \n",
      "Validation Loss: 0.0060, F1: 0.9235                                             \n",
      "Epoch [40/50], Train Loss: 0.1785, LR: 0.000000                                 \n",
      "Validation Loss: 0.0062, F1: 0.9194                                             \n",
      "Epoch [41/50], Train Loss: 0.1868, LR: 0.000000                                 \n",
      "Validation Loss: 0.0059, F1: 0.9262                                             \n",
      "Epoch [42/50], Train Loss: 0.1870, LR: 0.000000                                 \n",
      "Validation Loss: 0.0061, F1: 0.9228                                             \n",
      "Epoch [43/50], Train Loss: 0.1841, LR: 0.000000                                 \n",
      "Validation Loss: 0.0063, F1: 0.9167                                             \n",
      "Epoch [44/50], Train Loss: 0.1822, LR: 0.000000                                 \n",
      "Validation Loss: 0.0064, F1: 0.9186                                             \n",
      "Epoch [45/50], Train Loss: 0.1815, LR: 0.000000                                 \n",
      "Validation Loss: 0.0069, F1: 0.9104                                             \n",
      "Epoch [46/50], Train Loss: 0.1829, LR: 0.000000                                 \n",
      "Validation Loss: 0.0062, F1: 0.9185                                             \n",
      "Epoch [47/50], Train Loss: 0.1830, LR: 0.000000                                 \n",
      "Validation Loss: 0.0059, F1: 0.9242                                             \n",
      "Epoch [48/50], Train Loss: 0.1830, LR: 0.000000                                 \n",
      "Validation Loss: 0.0063, F1: 0.9156                                             \n",
      "Epoch [49/50], Train Loss: 0.1900, LR: 0.000000                                 \n",
      "Validation Loss: 0.0063, F1: 0.9180                                             \n",
      "Epoch [50/50], Train Loss: 0.1810, LR: 0.000000                                 \n",
      "Validation Loss: 0.0058, F1: 0.9236                                             \n",
      "\n",
      "Training completed in 815.4s\n",
      "\n",
      "--- Overall Metrics ---\n",
      "Precision: 0.9349\n",
      "Recall: 0.9142\n",
      "F1 Score: 0.9236\n",
      "Accuracy: 0.9352\n",
      "Balanced Accuracy: 0.9142\n"
     ]
    }
   ],
   "source": [
    "# start training\n",
    "!python train-mnv2.py --model_name mobilenetv2_100 --data_dir TLDataset/ALL/PKG-C-NMC2019 --num_classes 2 --num_epochs 50 --batch_size 32 --learning_rate 0.001 --checkpoint_path model_checkpoints/ALL/mnv2/"
   ]
  },
  {
   "cell_type": "code",
   "execution_count": null,
   "id": "3f03bb30-e65d-4f22-9213-44ef17cccb02",
   "metadata": {},
   "outputs": [],
   "source": []
  },
  {
   "cell_type": "markdown",
   "id": "90a4a864-c4fa-40de-b207-05336b0f4beb",
   "metadata": {},
   "source": [
    "# Evaluation \n",
    "\n",
    "ALL Only Evaluation"
   ]
  },
  {
   "cell_type": "code",
   "execution_count": 4,
   "id": "8c61cd37-0ede-4a2a-8353-94910fae14cc",
   "metadata": {},
   "outputs": [
    {
     "name": "stdout",
     "output_type": "stream",
     "text": [
      "Evaluating: 100%|████████████████████| 15/15 [00:01<00:00, 10.80it/s, acc=0.953]\n",
      "\n",
      "Evaluation Results:\n",
      "Precision: 0.9561\n",
      "Recall: 0.9351\n",
      "F1: 0.9447\n",
      "Accuracy: 0.9531\n",
      "Balanced accuracy: 0.9351\n"
     ]
    }
   ],
   "source": [
    "!python evaluate-mnv2.py --model_name mobilenetv2_100 --data_dir /home/sagemaker-user/ALL_Unseen/ --model_path /home/sagemaker-user/model_checkpoints/ALL/mnv2/mobilenetv2_100_best.pth --num_classes 2 --batch_size 32"
   ]
  },
  {
   "cell_type": "markdown",
   "id": "bcb581df-9faf-44e5-b135-499c99ab68e6",
   "metadata": {},
   "source": [
    "# Inference"
   ]
  },
  {
   "cell_type": "code",
   "execution_count": null,
   "id": "62a63217-57a1-4ac8-b0b5-1b409e98f2f3",
   "metadata": {
    "scrolled": true
   },
   "outputs": [],
   "source": [
    "!python inference.py --model_name resnet50 --image_path TLDataset/ALL/PKG-C-NMC2019/C-NMC_test_prelim_phase_data --model_path model_checkpoints/ALL/resnet50_best_epoch_49.pth --num_classes 2 --image_save results_C-NMC_test_prelim_phase_data"
   ]
  },
  {
   "cell_type": "code",
   "execution_count": null,
   "id": "e33031b9-630d-4a23-a9a1-3319e0980927",
   "metadata": {
    "scrolled": true
   },
   "outputs": [],
   "source": [
    "!python inference.py --model_name resnet50 --image_path TLDataset/ALL/PKG-C-NMC2019/C-NMC_test_final_phase_data --model_path model_checkpoints/ALL/resnet50_best_epoch_49.pth --num_classes 2 --image_save results_C-NMC_test_final_phase_data"
   ]
  },
  {
   "cell_type": "markdown",
   "id": "992d1e61-5a44-46f2-a8ad-d32c1bb4f6b1",
   "metadata": {},
   "source": [
    "# Transfer learning \n",
    "\n",
    "Here the trained model on ALL dataset is finetuned for AML dataset, by loading the ALL model weights as pretrained model."
   ]
  },
  {
   "cell_type": "code",
   "execution_count": 9,
   "id": "b19e54e7-77ed-4a79-b46d-fcf72a25af8f",
   "metadata": {},
   "outputs": [
    {
     "name": "stdout",
     "output_type": "stream",
     "text": [
      "Using device: cuda:0\n",
      "Training Data: 12207 samples\n",
      "Validation Data: 5230 samples\n",
      "===============================================================================================\n",
      "Layer (type:depth-idx)                        Output Shape              Param #\n",
      "===============================================================================================\n",
      "├─Conv2d: 1-1                                 [-1, 32, 112, 112]        864\n",
      "├─BatchNormAct2d: 1-2                         [-1, 32, 112, 112]        --\n",
      "|    └─Identity: 2-1                          [-1, 32, 112, 112]        --\n",
      "|    └─ReLU6: 2-2                             [-1, 32, 112, 112]        --\n",
      "├─Sequential: 1-3                             [-1, 320, 7, 7]           --\n",
      "|    └─Sequential: 2-3                        [-1, 16, 112, 112]        --\n",
      "|    |    └─DepthwiseSeparableConv: 3-1       [-1, 16, 112, 112]        896\n",
      "|    └─Sequential: 2-4                        [-1, 24, 56, 56]          --\n",
      "|    |    └─InvertedResidual: 3-2             [-1, 24, 56, 56]          5,136\n",
      "|    |    └─InvertedResidual: 3-3             [-1, 24, 56, 56]          8,832\n",
      "|    └─Sequential: 2-5                        [-1, 32, 28, 28]          --\n",
      "|    |    └─InvertedResidual: 3-4             [-1, 32, 28, 28]          10,000\n",
      "|    |    └─InvertedResidual: 3-5             [-1, 32, 28, 28]          14,848\n",
      "|    |    └─InvertedResidual: 3-6             [-1, 32, 28, 28]          14,848\n",
      "|    └─Sequential: 2-6                        [-1, 64, 14, 14]          --\n",
      "|    |    └─InvertedResidual: 3-7             [-1, 64, 14, 14]          21,056\n",
      "|    |    └─InvertedResidual: 3-8             [-1, 64, 14, 14]          54,272\n",
      "|    |    └─InvertedResidual: 3-9             [-1, 64, 14, 14]          54,272\n",
      "|    |    └─InvertedResidual: 3-10            [-1, 64, 14, 14]          54,272\n",
      "|    └─Sequential: 2-7                        [-1, 96, 14, 14]          --\n",
      "|    |    └─InvertedResidual: 3-11            [-1, 96, 14, 14]          66,624\n",
      "|    |    └─InvertedResidual: 3-12            [-1, 96, 14, 14]          118,272\n",
      "|    |    └─InvertedResidual: 3-13            [-1, 96, 14, 14]          118,272\n",
      "|    └─Sequential: 2-8                        [-1, 160, 7, 7]           --\n",
      "|    |    └─InvertedResidual: 3-14            [-1, 160, 7, 7]           155,264\n",
      "|    |    └─InvertedResidual: 3-15            [-1, 160, 7, 7]           320,000\n",
      "|    |    └─InvertedResidual: 3-16            [-1, 160, 7, 7]           320,000\n",
      "|    └─Sequential: 2-9                        [-1, 320, 7, 7]           --\n",
      "|    |    └─InvertedResidual: 3-17            [-1, 320, 7, 7]           473,920\n",
      "├─Conv2d: 1-4                                 [-1, 1280, 7, 7]          409,600\n",
      "├─BatchNormAct2d: 1-5                         [-1, 1280, 7, 7]          --\n",
      "|    └─Identity: 2-10                         [-1, 1280, 7, 7]          --\n",
      "|    └─ReLU6: 2-11                            [-1, 1280, 7, 7]          --\n",
      "├─SelectAdaptivePool2d: 1-6                   [-1, 1280]                --\n",
      "|    └─AdaptiveAvgPool2d: 2-12                [-1, 1280, 1, 1]          --\n",
      "|    └─Flatten: 2-13                          [-1, 1280]                --\n",
      "├─Linear: 1-7                                 [-1, 2]                   2,562\n",
      "===============================================================================================\n",
      "Total params: 2,223,810\n",
      "Trainable params: 2,223,810\n",
      "Non-trainable params: 0\n",
      "Total mult-adds (M): 304.90\n",
      "===============================================================================================\n",
      "Input size (MB): 0.57\n",
      "Forward/backward pass size (MB): 50.95\n",
      "Params size (MB): 8.48\n",
      "Estimated Total Size (MB): 60.01\n",
      "===============================================================================================\n",
      "Epoch [1/50], Train Loss: 0.2477, LR: 0.001000                                  \n",
      "Validation Loss: 0.0044, F1: 0.9267                                             \n",
      "\u001b[31mBest F1: 0.9267047302090544 in epoch 1\u001b[0m\n",
      "Epoch [2/50], Train Loss: 0.1791, LR: 0.001000                                  \n",
      "Validation Loss: 0.0035, F1: 0.9367                                             \n",
      "\u001b[31mBest F1: 0.9367269062055519 in epoch 2\u001b[0m\n",
      "Epoch [3/50], Train Loss: 0.1665, LR: 0.001000                                  \n",
      "Validation Loss: 0.0046, F1: 0.9209                                             \n",
      "Epoch [4/50], Train Loss: 0.1538, LR: 0.001000                                  \n",
      "Validation Loss: 0.0040, F1: 0.9350                                             \n",
      "Epoch [5/50], Train Loss: 0.1547, LR: 0.000100                                  \n",
      "Validation Loss: 0.0033, F1: 0.9391                                             \n",
      "\u001b[31mBest F1: 0.9390526622458175 in epoch 5\u001b[0m\n",
      "Epoch [6/50], Train Loss: 0.1247, LR: 0.000100                                  \n",
      "Validation Loss: 0.0029, F1: 0.9529                                             \n",
      "\u001b[31mBest F1: 0.9529090913366114 in epoch 6\u001b[0m\n",
      "Epoch [7/50], Train Loss: 0.1168, LR: 0.000100                                  \n",
      "Validation Loss: 0.0027, F1: 0.9511                                             \n",
      "Epoch [8/50], Train Loss: 0.1091, LR: 0.000100                                  \n",
      "Validation Loss: 0.0030, F1: 0.9510                                             \n",
      "Epoch [9/50], Train Loss: 0.1058, LR: 0.000100                                  \n",
      "Validation Loss: 0.0028, F1: 0.9505                                             \n",
      "Epoch [10/50], Train Loss: 0.1053, LR: 0.000010                                 \n",
      "Validation Loss: 0.0029, F1: 0.9543                                             \n",
      "\u001b[31mBest F1: 0.9543392388161265 in epoch 10\u001b[0m\n",
      "Epoch [11/50], Train Loss: 0.0930, LR: 0.000010                                 \n",
      "Validation Loss: 0.0028, F1: 0.9539                                             \n",
      "Epoch [12/50], Train Loss: 0.0988, LR: 0.000010                                 \n",
      "Validation Loss: 0.0030, F1: 0.9504                                             \n",
      "Epoch [13/50], Train Loss: 0.0963, LR: 0.000010                                 \n",
      "Validation Loss: 0.0028, F1: 0.9536                                             \n",
      "Epoch [14/50], Train Loss: 0.0975, LR: 0.000010                                 \n",
      "Validation Loss: 0.0028, F1: 0.9528                                             \n",
      "Epoch [15/50], Train Loss: 0.0957, LR: 0.000001                                 \n",
      "Validation Loss: 0.0028, F1: 0.9530                                             \n",
      "Epoch [16/50], Train Loss: 0.0930, LR: 0.000001                                 \n",
      "Validation Loss: 0.0028, F1: 0.9533                                             \n",
      "Epoch [17/50], Train Loss: 0.0959, LR: 0.000001                                 \n",
      "Validation Loss: 0.0029, F1: 0.9506                                             \n",
      "Epoch [18/50], Train Loss: 0.0919, LR: 0.000001                                 \n",
      "Validation Loss: 0.0027, F1: 0.9537                                             \n",
      "Epoch [19/50], Train Loss: 0.0958, LR: 0.000001                                 \n",
      "Validation Loss: 0.0029, F1: 0.9495                                             \n",
      "Epoch [20/50], Train Loss: 0.0932, LR: 0.000000                                 \n",
      "Validation Loss: 0.0028, F1: 0.9525                                             \n",
      "Epoch [21/50], Train Loss: 0.0962, LR: 0.000000                                 \n",
      "Validation Loss: 0.0027, F1: 0.9566                                             \n",
      "\u001b[31mBest F1: 0.9565724930059987 in epoch 21\u001b[0m\n",
      "Epoch [22/50], Train Loss: 0.0917, LR: 0.000000                                 \n",
      "Validation Loss: 0.0030, F1: 0.9495                                             \n",
      "Epoch [23/50], Train Loss: 0.0947, LR: 0.000000                                 \n",
      "Validation Loss: 0.0028, F1: 0.9522                                             \n",
      "Epoch [24/50], Train Loss: 0.0911, LR: 0.000000                                 \n",
      "Validation Loss: 0.0030, F1: 0.9484                                             \n",
      "Epoch [25/50], Train Loss: 0.0965, LR: 0.000000                                 \n",
      "Validation Loss: 0.0028, F1: 0.9550                                             \n",
      "Epoch [26/50], Train Loss: 0.0998, LR: 0.000000                                 \n",
      "Validation Loss: 0.0028, F1: 0.9527                                             \n",
      "Epoch [27/50], Train Loss: 0.0947, LR: 0.000000                                 \n",
      "Validation Loss: 0.0030, F1: 0.9487                                             \n",
      "Epoch [28/50], Train Loss: 0.0953, LR: 0.000000                                 \n",
      "Validation Loss: 0.0029, F1: 0.9514                                             \n",
      "Epoch [29/50], Train Loss: 0.0942, LR: 0.000000                                 \n",
      "Validation Loss: 0.0028, F1: 0.9531                                             \n",
      "Epoch [30/50], Train Loss: 0.0970, LR: 0.000000                                 \n",
      "Validation Loss: 0.0029, F1: 0.9498                                             \n",
      "Epoch [31/50], Train Loss: 0.0933, LR: 0.000000                                 \n",
      "Validation Loss: 0.0030, F1: 0.9470                                             \n",
      "Epoch [32/50], Train Loss: 0.0937, LR: 0.000000                                 \n",
      "Validation Loss: 0.0027, F1: 0.9546                                             \n",
      "Epoch [33/50], Train Loss: 0.0908, LR: 0.000000                                 \n",
      "Validation Loss: 0.0028, F1: 0.9553                                             \n",
      "Epoch [34/50], Train Loss: 0.0973, LR: 0.000000                                 \n",
      "Validation Loss: 0.0028, F1: 0.9528                                             \n",
      "Epoch [35/50], Train Loss: 0.0981, LR: 0.000000                                 \n",
      "Validation Loss: 0.0029, F1: 0.9500                                             \n",
      "Epoch [36/50], Train Loss: 0.0940, LR: 0.000000                                 \n",
      "Validation Loss: 0.0028, F1: 0.9516                                             \n",
      "Epoch [37/50], Train Loss: 0.0917, LR: 0.000000                                 \n",
      "Validation Loss: 0.0029, F1: 0.9509                                             \n",
      "Epoch [38/50], Train Loss: 0.0886, LR: 0.000000                                 \n",
      "Validation Loss: 0.0028, F1: 0.9525                                             \n",
      "Epoch [39/50], Train Loss: 0.0957, LR: 0.000000                                 \n",
      "Validation Loss: 0.0028, F1: 0.9528                                             \n",
      "Epoch [40/50], Train Loss: 0.0927, LR: 0.000000                                 \n",
      "Validation Loss: 0.0029, F1: 0.9489                                             \n",
      "Epoch [41/50], Train Loss: 0.0938, LR: 0.000000                                 \n",
      "Validation Loss: 0.0030, F1: 0.9484                                             \n",
      "Epoch [42/50], Train Loss: 0.0942, LR: 0.000000                                 \n",
      "Validation Loss: 0.0028, F1: 0.9528                                             \n",
      "Epoch [43/50], Train Loss: 0.0935, LR: 0.000000                                 \n",
      "Validation Loss: 0.0028, F1: 0.9528                                             \n",
      "Epoch [44/50], Train Loss: 0.0906, LR: 0.000000                                 \n",
      "Validation Loss: 0.0028, F1: 0.9531                                             \n",
      "Epoch [45/50], Train Loss: 0.0914, LR: 0.000000                                 \n",
      "Validation Loss: 0.0028, F1: 0.9517                                             \n",
      "Epoch [46/50], Train Loss: 0.0937, LR: 0.000000                                 \n",
      "Validation Loss: 0.0029, F1: 0.9503                                             \n",
      "Epoch [47/50], Train Loss: 0.0973, LR: 0.000000                                 \n",
      "Validation Loss: 0.0029, F1: 0.9509                                             \n",
      "Epoch [48/50], Train Loss: 0.0929, LR: 0.000000                                 \n",
      "Validation Loss: 0.0029, F1: 0.9497                                             \n",
      "Epoch [49/50], Train Loss: 0.0949, LR: 0.000000                                 \n",
      "Validation Loss: 0.0028, F1: 0.9522                                             \n",
      "Epoch [50/50], Train Loss: 0.0910, LR: 0.000000                                 \n",
      "Validation Loss: 0.0028, F1: 0.9514                                             \n",
      "\n",
      "Training completed in 1330.6s\n",
      "\n",
      "--- Overall Metrics ---\n",
      "Precision: 0.9465\n",
      "Recall: 0.9565\n",
      "F1 Score: 0.9514\n",
      "Accuracy: 0.9688\n",
      "Balanced Accuracy: 0.9565\n"
     ]
    }
   ],
   "source": [
    "!python train-mnv2.py --model_name mobilenetv2_100 --data_dir AMLDataset/AML --num_classes 2 --num_epochs 50 --batch_size 32 --learning_rate 0.001 --checkpoint_path model_checkpoints/AML/mnv2 --pretrained_path model_checkpoints/ALL/mnv2/mobilenetv2_100_best.pth"
   ]
  },
  {
   "cell_type": "markdown",
   "id": "74d1a182-db73-4459-989d-8b143751831c",
   "metadata": {},
   "source": [
    "# Notes\n",
    "\n",
    "Inference on unseen AML Images"
   ]
  },
  {
   "cell_type": "code",
   "execution_count": null,
   "id": "63ddd70f-02fb-4832-98e7-9336e78790e5",
   "metadata": {},
   "outputs": [],
   "source": [
    "# TL model with unseen ALL images again to see if TL helped"
   ]
  },
  {
   "cell_type": "code",
   "execution_count": 10,
   "id": "42ebac13-8277-4b69-b9d9-d3afffccf3f2",
   "metadata": {},
   "outputs": [
    {
     "name": "stdout",
     "output_type": "stream",
     "text": [
      "Evaluating: 100%|████████████████████| 15/15 [00:00<00:00, 18.00it/s, acc=0.322]\n",
      "\n",
      "Evaluation Results:\n",
      "Precision: 0.6595\n",
      "Recall: 0.5031\n",
      "F1: 0.2481\n",
      "Accuracy: 0.3220\n",
      "Balanced accuracy: 0.5031\n"
     ]
    }
   ],
   "source": [
    "!python evaluate-mnv2.py --model_name mobilenetv2_100 --data_dir ALL_Unseen/ --model_path model_checkpoints/AML/mnv2/mobilenetv2_100_best.pth --num_classes 2 --batch_size 32"
   ]
  },
  {
   "cell_type": "code",
   "execution_count": null,
   "id": "55812da6-1057-4fd1-9b9e-1d66e9bea64b",
   "metadata": {},
   "outputs": [],
   "source": [
    "# TL model with unseen AML images"
   ]
  },
  {
   "cell_type": "code",
   "execution_count": 2,
   "id": "982df6cc-cada-4491-a24c-00804a0e0e8a",
   "metadata": {},
   "outputs": [
    {
     "name": "stdout",
     "output_type": "stream",
     "text": [
      "Evaluating: 100%|████████████████████| 29/29 [00:03<00:00,  7.76it/s, acc=0.976]\n",
      "\n",
      "Evaluation Results:\n",
      "Precision: 0.9604\n",
      "Recall: 0.9642\n",
      "F1: 0.9623\n",
      "Accuracy: 0.9760\n",
      "Balanced accuracy: 0.9642\n"
     ]
    }
   ],
   "source": [
    "!python evaluate-mnv2.py --model_name mobilenetv2_100 --data_dir /home/sagemaker-user/AML_Unseen/ --model_path /home/sagemaker-user/model_checkpoints/AML/mnv2/mobilenetv2_100_best.pth --num_classes 2 --batch_size 32"
   ]
  },
  {
   "cell_type": "code",
   "execution_count": null,
   "id": "ac730a26-c5e1-4468-9e17-20123a665203",
   "metadata": {},
   "outputs": [],
   "source": [
    "# Training AML Only without TF weights to Compare with TF Model"
   ]
  },
  {
   "cell_type": "code",
   "execution_count": null,
   "id": "09c12659-b0bb-4f60-b17f-a9d481d053c2",
   "metadata": {},
   "outputs": [],
   "source": [
    "!pip install seaborn"
   ]
  },
  {
   "cell_type": "code",
   "execution_count": 12,
   "id": "7638fbb8-d398-4998-985d-7afd087a6996",
   "metadata": {},
   "outputs": [
    {
     "name": "stdout",
     "output_type": "stream",
     "text": [
      "Using device: cuda:0\n",
      "Training Data: 12207 samples\n",
      "Validation Data: 5230 samples\n",
      "===============================================================================================\n",
      "Layer (type:depth-idx)                        Output Shape              Param #\n",
      "===============================================================================================\n",
      "├─Conv2d: 1-1                                 [-1, 32, 112, 112]        864\n",
      "├─BatchNormAct2d: 1-2                         [-1, 32, 112, 112]        --\n",
      "|    └─Identity: 2-1                          [-1, 32, 112, 112]        --\n",
      "|    └─ReLU6: 2-2                             [-1, 32, 112, 112]        --\n",
      "├─Sequential: 1-3                             [-1, 320, 7, 7]           --\n",
      "|    └─Sequential: 2-3                        [-1, 16, 112, 112]        --\n",
      "|    |    └─DepthwiseSeparableConv: 3-1       [-1, 16, 112, 112]        896\n",
      "|    └─Sequential: 2-4                        [-1, 24, 56, 56]          --\n",
      "|    |    └─InvertedResidual: 3-2             [-1, 24, 56, 56]          5,136\n",
      "|    |    └─InvertedResidual: 3-3             [-1, 24, 56, 56]          8,832\n",
      "|    └─Sequential: 2-5                        [-1, 32, 28, 28]          --\n",
      "|    |    └─InvertedResidual: 3-4             [-1, 32, 28, 28]          10,000\n",
      "|    |    └─InvertedResidual: 3-5             [-1, 32, 28, 28]          14,848\n",
      "|    |    └─InvertedResidual: 3-6             [-1, 32, 28, 28]          14,848\n",
      "|    └─Sequential: 2-6                        [-1, 64, 14, 14]          --\n",
      "|    |    └─InvertedResidual: 3-7             [-1, 64, 14, 14]          21,056\n",
      "|    |    └─InvertedResidual: 3-8             [-1, 64, 14, 14]          54,272\n",
      "|    |    └─InvertedResidual: 3-9             [-1, 64, 14, 14]          54,272\n",
      "|    |    └─InvertedResidual: 3-10            [-1, 64, 14, 14]          54,272\n",
      "|    └─Sequential: 2-7                        [-1, 96, 14, 14]          --\n",
      "|    |    └─InvertedResidual: 3-11            [-1, 96, 14, 14]          66,624\n",
      "|    |    └─InvertedResidual: 3-12            [-1, 96, 14, 14]          118,272\n",
      "|    |    └─InvertedResidual: 3-13            [-1, 96, 14, 14]          118,272\n",
      "|    └─Sequential: 2-8                        [-1, 160, 7, 7]           --\n",
      "|    |    └─InvertedResidual: 3-14            [-1, 160, 7, 7]           155,264\n",
      "|    |    └─InvertedResidual: 3-15            [-1, 160, 7, 7]           320,000\n",
      "|    |    └─InvertedResidual: 3-16            [-1, 160, 7, 7]           320,000\n",
      "|    └─Sequential: 2-9                        [-1, 320, 7, 7]           --\n",
      "|    |    └─InvertedResidual: 3-17            [-1, 320, 7, 7]           473,920\n",
      "├─Conv2d: 1-4                                 [-1, 1280, 7, 7]          409,600\n",
      "├─BatchNormAct2d: 1-5                         [-1, 1280, 7, 7]          --\n",
      "|    └─Identity: 2-10                         [-1, 1280, 7, 7]          --\n",
      "|    └─ReLU6: 2-11                            [-1, 1280, 7, 7]          --\n",
      "├─SelectAdaptivePool2d: 1-6                   [-1, 1280]                --\n",
      "|    └─AdaptiveAvgPool2d: 2-12                [-1, 1280, 1, 1]          --\n",
      "|    └─Flatten: 2-13                          [-1, 1280]                --\n",
      "├─Linear: 1-7                                 [-1, 2]                   2,562\n",
      "===============================================================================================\n",
      "Total params: 2,223,810\n",
      "Trainable params: 2,223,810\n",
      "Non-trainable params: 0\n",
      "Total mult-adds (M): 304.90\n",
      "===============================================================================================\n",
      "Input size (MB): 0.57\n",
      "Forward/backward pass size (MB): 50.95\n",
      "Params size (MB): 8.48\n",
      "Estimated Total Size (MB): 60.01\n",
      "===============================================================================================\n",
      "Epoch [1/50], Train Loss: 0.3412, LR: 0.001000                                  \n",
      "Validation Loss: 0.0065, F1: 0.8761                                             \n",
      "\u001b[31mBest F1: 0.8761126207738963 in epoch 1\u001b[0m\n",
      "Epoch [2/50], Train Loss: 0.1865, LR: 0.001000                                  \n",
      "Validation Loss: 0.0043, F1: 0.9256                                             \n",
      "\u001b[31mBest F1: 0.9255608742314887 in epoch 2\u001b[0m\n",
      "Epoch [3/50], Train Loss: 0.1655, LR: 0.001000                                  \n",
      "Validation Loss: 0.0044, F1: 0.9307                                             \n",
      "\u001b[31mBest F1: 0.9306849425551929 in epoch 3\u001b[0m\n",
      "Epoch [4/50], Train Loss: 0.1597, LR: 0.001000                                  \n",
      "Validation Loss: 0.0058, F1: 0.8691                                             \n",
      "Epoch [5/50], Train Loss: 0.1532, LR: 0.000100                                  \n",
      "Validation Loss: 0.0057, F1: 0.9051                                             \n",
      "Epoch [6/50], Train Loss: 0.1229, LR: 0.000100                                  \n",
      "Validation Loss: 0.0030, F1: 0.9507                                             \n",
      "\u001b[31mBest F1: 0.9506873851079503 in epoch 6\u001b[0m\n",
      "Epoch [7/50], Train Loss: 0.1097, LR: 0.000100                                  \n",
      "Validation Loss: 0.0028, F1: 0.9524                                             \n",
      "\u001b[31mBest F1: 0.9523503742704706 in epoch 7\u001b[0m\n",
      "Epoch [8/50], Train Loss: 0.1090, LR: 0.000100                                  \n",
      "Validation Loss: 0.0029, F1: 0.9515                                             \n",
      "Epoch [9/50], Train Loss: 0.1058, LR: 0.000100                                  \n",
      "Validation Loss: 0.0028, F1: 0.9504                                             \n",
      "Epoch [10/50], Train Loss: 0.1016, LR: 0.000010                                 \n",
      "Validation Loss: 0.0032, F1: 0.9486                                             \n",
      "Epoch [11/50], Train Loss: 0.0982, LR: 0.000010                                 \n",
      "Validation Loss: 0.0029, F1: 0.9494                                             \n",
      "Epoch [12/50], Train Loss: 0.0935, LR: 0.000010                                 \n",
      "Validation Loss: 0.0030, F1: 0.9508                                             \n",
      "Epoch [13/50], Train Loss: 0.0948, LR: 0.000010                                 \n",
      "Validation Loss: 0.0029, F1: 0.9508                                             \n",
      "Epoch [14/50], Train Loss: 0.0910, LR: 0.000010                                 \n",
      "Validation Loss: 0.0029, F1: 0.9507                                             \n",
      "Epoch [15/50], Train Loss: 0.0963, LR: 0.000001                                 \n",
      "Validation Loss: 0.0028, F1: 0.9521                                             \n",
      "Epoch [16/50], Train Loss: 0.0910, LR: 0.000001                                 \n",
      "Validation Loss: 0.0029, F1: 0.9517                                             \n",
      "Epoch [17/50], Train Loss: 0.0939, LR: 0.000001                                 \n",
      "Validation Loss: 0.0029, F1: 0.9503                                             \n",
      "Epoch [18/50], Train Loss: 0.0926, LR: 0.000001                                 \n",
      "Validation Loss: 0.0028, F1: 0.9536                                             \n",
      "\u001b[31mBest F1: 0.953642756378317 in epoch 18\u001b[0m\n",
      "Epoch [19/50], Train Loss: 0.0947, LR: 0.000001                                 \n",
      "Validation Loss: 0.0028, F1: 0.9519                                             \n",
      "Epoch [20/50], Train Loss: 0.0876, LR: 0.000000                                 \n",
      "Validation Loss: 0.0029, F1: 0.9504                                             \n",
      "Epoch [21/50], Train Loss: 0.0902, LR: 0.000000                                 \n",
      "Validation Loss: 0.0028, F1: 0.9534                                             \n",
      "Epoch [22/50], Train Loss: 0.0934, LR: 0.000000                                 \n",
      "Validation Loss: 0.0030, F1: 0.9486                                             \n",
      "Epoch [23/50], Train Loss: 0.0904, LR: 0.000000                                 \n",
      "Validation Loss: 0.0028, F1: 0.9520                                             \n",
      "Epoch [24/50], Train Loss: 0.0915, LR: 0.000000                                 \n",
      "Validation Loss: 0.0028, F1: 0.9520                                             \n",
      "Epoch [25/50], Train Loss: 0.0942, LR: 0.000000                                 \n",
      "Validation Loss: 0.0028, F1: 0.9528                                             \n",
      "Epoch [26/50], Train Loss: 0.0930, LR: 0.000000                                 \n",
      "Validation Loss: 0.0029, F1: 0.9505                                             \n",
      "Epoch [27/50], Train Loss: 0.0921, LR: 0.000000                                 \n",
      "Validation Loss: 0.0029, F1: 0.9507                                             \n",
      "Epoch [28/50], Train Loss: 0.0911, LR: 0.000000                                 \n",
      "Validation Loss: 0.0028, F1: 0.9511                                             \n",
      "Epoch [29/50], Train Loss: 0.0910, LR: 0.000000                                 \n",
      "Validation Loss: 0.0029, F1: 0.9513                                             \n",
      "Epoch [30/50], Train Loss: 0.0926, LR: 0.000000                                 \n",
      "Validation Loss: 0.0029, F1: 0.9504                                             \n",
      "Epoch [31/50], Train Loss: 0.0889, LR: 0.000000                                 \n",
      "Validation Loss: 0.0029, F1: 0.9511                                             \n",
      "Epoch [32/50], Train Loss: 0.0890, LR: 0.000000                                 \n",
      "Validation Loss: 0.0030, F1: 0.9489                                             \n",
      "Epoch [33/50], Train Loss: 0.0923, LR: 0.000000                                 \n",
      "Validation Loss: 0.0029, F1: 0.9507                                             \n",
      "Epoch [34/50], Train Loss: 0.0888, LR: 0.000000                                 \n",
      "Validation Loss: 0.0029, F1: 0.9490                                             \n",
      "Epoch [35/50], Train Loss: 0.0923, LR: 0.000000                                 \n",
      "Validation Loss: 0.0028, F1: 0.9529                                             \n",
      "Epoch [36/50], Train Loss: 0.0907, LR: 0.000000                                 \n",
      "Validation Loss: 0.0029, F1: 0.9515                                             \n",
      "Epoch [37/50], Train Loss: 0.0926, LR: 0.000000                                 \n",
      "Validation Loss: 0.0028, F1: 0.9522                                             \n",
      "Epoch [38/50], Train Loss: 0.0883, LR: 0.000000                                 \n",
      "Validation Loss: 0.0029, F1: 0.9516                                             \n",
      "Epoch [39/50], Train Loss: 0.0905, LR: 0.000000                                 \n",
      "Validation Loss: 0.0028, F1: 0.9533                                             \n",
      "Epoch [40/50], Train Loss: 0.0903, LR: 0.000000                                 \n",
      "Validation Loss: 0.0028, F1: 0.9528                                             \n",
      "Epoch [41/50], Train Loss: 0.0898, LR: 0.000000                                 \n",
      "Validation Loss: 0.0029, F1: 0.9499                                             \n",
      "Epoch [42/50], Train Loss: 0.0896, LR: 0.000000                                 \n",
      "Validation Loss: 0.0028, F1: 0.9536                                             \n",
      "Epoch [43/50], Train Loss: 0.0927, LR: 0.000000                                 \n",
      "Validation Loss: 0.0029, F1: 0.9511                                             \n",
      "Epoch [44/50], Train Loss: 0.0927, LR: 0.000000                                 \n",
      "Validation Loss: 0.0030, F1: 0.9497                                             \n",
      "Epoch [45/50], Train Loss: 0.0901, LR: 0.000000                                 \n",
      "Validation Loss: 0.0028, F1: 0.9525                                             \n",
      "Epoch [46/50], Train Loss: 0.0914, LR: 0.000000                                 \n",
      "Validation Loss: 0.0029, F1: 0.9502                                             \n",
      "Epoch [47/50], Train Loss: 0.0928, LR: 0.000000                                 \n",
      "Validation Loss: 0.0028, F1: 0.9523                                             \n",
      "Epoch [48/50], Train Loss: 0.0915, LR: 0.000000                                 \n",
      "Validation Loss: 0.0030, F1: 0.9510                                             \n",
      "Epoch [49/50], Train Loss: 0.0918, LR: 0.000000                                 \n",
      "Validation Loss: 0.0029, F1: 0.9506                                             \n",
      "Epoch [50/50], Train Loss: 0.0894, LR: 0.000000                                 \n",
      "Validation Loss: 0.0028, F1: 0.9537                                             \n",
      "\u001b[31mBest F1: 0.9536760284347412 in epoch 50\u001b[0m\n",
      "\n",
      "Training completed in 1273.3s\n",
      "\n",
      "--- Overall Metrics ---\n",
      "Precision: 0.9497\n",
      "Recall: 0.9578\n",
      "F1 Score: 0.9537\n",
      "Accuracy: 0.9704\n",
      "Balanced Accuracy: 0.9578\n"
     ]
    }
   ],
   "source": [
    "# start training AML Model\n",
    "!python train-mnv2.py --model_name mobilenetv2_100 --data_dir AMLDataset/AML/ --num_classes 2 --num_epochs 50 --batch_size 32 --learning_rate 0.001 --checkpoint_path model_checkpoints/AML_Only/mnv2/"
   ]
  },
  {
   "cell_type": "code",
   "execution_count": null,
   "id": "62570d38-6369-494f-b32a-84f1d1e2a17a",
   "metadata": {},
   "outputs": [],
   "source": [
    "# Test AML_Only model on AML Unseen Data"
   ]
  },
  {
   "cell_type": "code",
   "execution_count": 3,
   "id": "06dd8ff8-7022-49f1-be18-f578af76f01f",
   "metadata": {},
   "outputs": [
    {
     "name": "stdout",
     "output_type": "stream",
     "text": [
      "Evaluating: 100%|████████████████████| 29/29 [00:01<00:00, 24.64it/s, acc=0.969]\n",
      "\n",
      "Evaluation Results:\n",
      "Precision: 0.9470\n",
      "Recall: 0.9581\n",
      "F1: 0.9524\n",
      "Accuracy: 0.9695\n",
      "Balanced accuracy: 0.9581\n"
     ]
    }
   ],
   "source": [
    "!python evaluate-mnv2.py --model_name mobilenetv2_100 --data_dir /home/sagemaker-user/AML_Unseen/ --model_path /home/sagemaker-user/model_checkpoints/AML_Only/mnv2/mobilenetv2_100_best.pth --num_classes 2 --batch_size 32"
   ]
  },
  {
   "cell_type": "code",
   "execution_count": null,
   "id": "e41db8c9-c9cd-4564-9741-562740974db0",
   "metadata": {},
   "outputs": [],
   "source": [
    "#-------- **************-----------------***********---"
   ]
  },
  {
   "cell_type": "code",
   "execution_count": null,
   "id": "ea415e52-09ee-4685-87cb-cbdd674156f1",
   "metadata": {},
   "outputs": [],
   "source": [
    "#-------- **************-----------------***********---"
   ]
  },
  {
   "cell_type": "code",
   "execution_count": null,
   "id": "55cbb2e1-3ed9-4954-94cf-cef33555c926",
   "metadata": {},
   "outputs": [],
   "source": [
    "#-------- **************-----------------***********---"
   ]
  },
  {
   "cell_type": "code",
   "execution_count": null,
   "id": "77d3fc8a-8d6b-4e2d-846a-82d4354bab48",
   "metadata": {},
   "outputs": [],
   "source": [
    "#-------- **************-----------------***********---"
   ]
  },
  {
   "cell_type": "code",
   "execution_count": null,
   "id": "acb548a4-c2a9-4bb1-aae8-28808e7c7492",
   "metadata": {},
   "outputs": [],
   "source": [
    "# Best AML model weights to TF on ALL data"
   ]
  },
  {
   "cell_type": "code",
   "execution_count": null,
   "id": "136541b1-ffef-4e49-b7e7-845049f2a05b",
   "metadata": {},
   "outputs": [],
   "source": [
    "!python train-mobilenetv2.py --model_name mobilenetv2 --data_dir TLDataset/ALL/PKG-C-NMC2019 --num_classes 2 --num_epochs 150 --batch_size 64 --learning_rate 0.01 --momentum 0.9 --checkpoint_path model_checkpoints/AML_Pretrained/mobilenetv2 --pretrained_path model_checkpoints/AML_Only/mobilenetv2/mobilenetv2_best_epoch_104.pth"
   ]
  },
  {
   "cell_type": "code",
   "execution_count": null,
   "id": "3b60a038-17b9-4544-ba4b-6ce9644edeba",
   "metadata": {},
   "outputs": [],
   "source": [
    "# TF Model Validation on Unseen ALL"
   ]
  },
  {
   "cell_type": "code",
   "execution_count": null,
   "id": "4af42bd7-8482-42bc-8ba8-96a09bdf5c46",
   "metadata": {},
   "outputs": [],
   "source": [
    "!python evaluate-mobilenetv2.py --model_name mobilenetv2 --data_dir ALL_Unseen/ --model_path model_checkpoints/AML_Pretrained/mobilenetv2/mobilenetv2_best_epoch_100.pth --num_classes 2 --batch_size 32"
   ]
  },
  {
   "cell_type": "code",
   "execution_count": null,
   "id": "e8b01a06-a5af-409c-ae42-aa993c82fb23",
   "metadata": {},
   "outputs": [],
   "source": [
    "# TF Model Validation on Unseen AML"
   ]
  },
  {
   "cell_type": "code",
   "execution_count": null,
   "id": "2f26b00b-e1aa-4bba-83a3-33492cd7e2a4",
   "metadata": {},
   "outputs": [],
   "source": [
    "!python evaluate.py --model_name resnet50 --data_dir AML_Unseen/ --model_path model_checkpoints/ALL_Pretrained/resnet50_best_epoch_76.pth --num_classes 2 --batch_size 32"
   ]
  },
  {
   "cell_type": "code",
   "execution_count": null,
   "id": "37443998-4fa8-4b55-bed9-1e5c724d39c0",
   "metadata": {},
   "outputs": [],
   "source": []
  }
 ],
 "metadata": {
  "kernelspec": {
   "display_name": "Python 3 (ipykernel)",
   "language": "python",
   "name": "python3"
  },
  "language_info": {
   "codemirror_mode": {
    "name": "ipython",
    "version": 3
   },
   "file_extension": ".py",
   "mimetype": "text/x-python",
   "name": "python",
   "nbconvert_exporter": "python",
   "pygments_lexer": "ipython3",
   "version": "3.11.11"
  }
 },
 "nbformat": 4,
 "nbformat_minor": 5
}
